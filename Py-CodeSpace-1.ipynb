{
 "cells": [
  {
   "cell_type": "code",
   "execution_count": 1,
   "metadata": {},
   "outputs": [
    {
     "name": "stdout",
     "output_type": "stream",
     "text": [
      "3.10.13 (main, Nov 16 2023, 19:48:55) [GCC 9.4.0]\n"
     ]
    }
   ],
   "source": [
    "import sys\n",
    "print(sys.version)"
   ]
  },
  {
   "cell_type": "code",
   "execution_count": 1,
   "metadata": {},
   "outputs": [
    {
     "name": "stdout",
     "output_type": "stream",
     "text": [
      "Package                   Version\n",
      "------------------------- ------------\n",
      "anyio                     4.0.0\n",
      "argon2-cffi               23.1.0\n",
      "argon2-cffi-bindings      21.2.0\n",
      "arrow                     1.3.0\n",
      "asttokens                 2.4.1\n",
      "async-lru                 2.0.4\n",
      "attrs                     23.1.0\n",
      "Babel                     2.13.1\n",
      "beautifulsoup4            4.12.2\n",
      "bleach                    6.1.0\n",
      "certifi                   2023.7.22\n",
      "cffi                      1.16.0\n",
      "charset-normalizer        3.3.2\n",
      "colorama                  0.4.6\n",
      "comm                      0.2.0\n",
      "contourpy                 1.2.0\n",
      "cycler                    0.12.1\n",
      "debugpy                   1.8.0\n",
      "decorator                 5.1.1\n",
      "defusedxml                0.7.1\n",
      "exceptiongroup            1.1.3\n",
      "executing                 2.0.1\n",
      "fastjsonschema            2.19.0\n",
      "filelock                  3.13.1\n",
      "fonttools                 4.44.3\n",
      "fqdn                      1.5.1\n",
      "fsspec                    2023.10.0\n",
      "gitdb                     4.0.11\n",
      "GitPython                 3.1.40\n",
      "idna                      3.4\n",
      "ipykernel                 6.26.0\n",
      "ipython                   8.17.2\n",
      "isoduration               20.11.0\n",
      "jedi                      0.19.1\n",
      "Jinja2                    3.1.2\n",
      "joblib                    1.3.2\n",
      "json5                     0.9.14\n",
      "jsonpointer               2.4\n",
      "jsonschema                4.20.0\n",
      "jsonschema-specifications 2023.11.1\n",
      "jupyter_client            8.6.0\n",
      "jupyter_core              5.5.0\n",
      "jupyter-events            0.9.0\n",
      "jupyter-lsp               2.2.0\n",
      "jupyter_server            2.10.1\n",
      "jupyter-server-mathjax    0.2.6\n",
      "jupyter_server_terminals  0.4.4\n",
      "jupyterlab                4.0.8\n",
      "jupyterlab_git            0.44.0\n",
      "jupyterlab-pygments       0.2.2\n",
      "jupyterlab_server         2.25.1\n",
      "kiwisolver                1.4.5\n",
      "MarkupSafe                2.1.3\n",
      "matplotlib                3.8.1\n",
      "matplotlib-inline         0.1.6\n",
      "mistune                   3.0.2\n",
      "mpmath                    1.3.0\n",
      "nbclient                  0.9.0\n",
      "nbconvert                 7.11.0\n",
      "nbdime                    3.2.1\n",
      "nbformat                  5.9.2\n",
      "nest-asyncio              1.5.8\n",
      "networkx                  3.2.1\n",
      "notebook_shim             0.2.3\n",
      "numpy                     1.26.2\n",
      "nvidia-cublas-cu12        12.1.3.1\n",
      "nvidia-cuda-cupti-cu12    12.1.105\n",
      "nvidia-cuda-nvrtc-cu12    12.1.105\n",
      "nvidia-cuda-runtime-cu12  12.1.105\n",
      "nvidia-cudnn-cu12         8.9.2.26\n",
      "nvidia-cufft-cu12         11.0.2.54\n",
      "nvidia-curand-cu12        10.3.2.106\n",
      "nvidia-cusolver-cu12      11.4.5.107\n",
      "nvidia-cusparse-cu12      12.1.0.106\n",
      "nvidia-nccl-cu12          2.18.1\n",
      "nvidia-nvjitlink-cu12     12.3.101\n",
      "nvidia-nvtx-cu12          12.1.105\n",
      "overrides                 7.4.0\n",
      "packaging                 23.2\n",
      "pandas                    2.1.3\n",
      "pandocfilters             1.5.0\n",
      "parso                     0.8.3\n",
      "pexpect                   4.8.0\n",
      "Pillow                    10.1.0\n",
      "pip                       23.3.1\n",
      "platformdirs              4.0.0\n",
      "plotly                    5.18.0\n",
      "prometheus-client         0.18.0\n",
      "prompt-toolkit            3.0.41\n",
      "psutil                    5.9.6\n",
      "ptyprocess                0.7.0\n",
      "pure-eval                 0.2.2\n",
      "pycparser                 2.21\n",
      "Pygments                  2.16.1\n",
      "pyparsing                 3.1.1\n",
      "python-dateutil           2.8.2\n",
      "python-json-logger        2.0.7\n",
      "pytz                      2023.3.post1\n",
      "PyYAML                    6.0.1\n",
      "pyzmq                     25.1.1\n",
      "referencing               0.31.0\n",
      "requests                  2.31.0\n",
      "rfc3339-validator         0.1.4\n",
      "rfc3986-validator         0.1.1\n",
      "rpds-py                   0.13.0\n",
      "scikit-learn              1.3.2\n",
      "scipy                     1.11.3\n",
      "seaborn                   0.13.0\n",
      "Send2Trash                1.8.2\n",
      "setuptools                68.2.2\n",
      "six                       1.16.0\n",
      "smmap                     5.0.1\n",
      "sniffio                   1.3.0\n",
      "soupsieve                 2.5\n",
      "stack-data                0.6.3\n",
      "sympy                     1.12\n",
      "tenacity                  8.2.3\n",
      "terminado                 0.18.0\n",
      "threadpoolctl             3.2.0\n",
      "tinycss2                  1.2.1\n",
      "tomli                     2.0.1\n",
      "torch                     2.1.1\n",
      "tornado                   6.3.3\n",
      "traitlets                 5.13.0\n",
      "triton                    2.1.0\n",
      "types-python-dateutil     2.8.19.14\n",
      "typing_extensions         4.8.0\n",
      "tzdata                    2023.3\n",
      "uri-template              1.3.0\n",
      "urllib3                   2.0.7\n",
      "wcwidth                   0.2.10\n",
      "webcolors                 1.13\n",
      "webencodings              0.5.1\n",
      "websocket-client          1.6.4\n"
     ]
    }
   ],
   "source": [
    "!pip list"
   ]
  },
  {
   "cell_type": "code",
   "execution_count": 2,
   "metadata": {},
   "outputs": [
    {
     "name": "stdout",
     "output_type": "stream",
     "text": [
      "Package                   Version    Latest     Type\n",
      "------------------------- ---------- ---------- -----\n",
      "anyio                     4.0.0      4.1.0      wheel\n",
      "certifi                   2023.7.22  2023.11.17 wheel\n",
      "exceptiongroup            1.1.3      1.2.0      wheel\n",
      "fonttools                 4.44.3     4.45.1     wheel\n",
      "idna                      3.4        3.6        wheel\n",
      "ipykernel                 6.26.0     6.27.1     wheel\n",
      "ipython                   8.17.2     8.18.1     wheel\n",
      "jsonschema-specifications 2023.11.1  2023.11.2  wheel\n",
      "jupyter-lsp               2.2.0      2.2.1      wheel\n",
      "jupyter_server            2.10.1     2.11.1     wheel\n",
      "jupyterlab                4.0.8      4.0.9      wheel\n",
      "jupyterlab_git            0.44.0     0.50.0     wheel\n",
      "jupyterlab-pygments       0.2.2      0.3.0      wheel\n",
      "jupyterlab_server         2.25.1     2.25.2     wheel\n",
      "matplotlib                3.8.1      3.8.2      wheel\n",
      "nbdime                    3.2.1      4.0.1      wheel\n",
      "nvidia-cublas-cu12        12.1.3.1   12.3.4.1   wheel\n",
      "nvidia-cuda-cupti-cu12    12.1.105   12.3.101   wheel\n",
      "nvidia-cuda-nvrtc-cu12    12.1.105   12.3.103   wheel\n",
      "nvidia-cuda-runtime-cu12  12.1.105   12.3.101   wheel\n",
      "nvidia-cudnn-cu12         8.9.2.26   8.9.6.50   wheel\n",
      "nvidia-cufft-cu12         11.0.2.54  11.0.12.1  wheel\n",
      "nvidia-curand-cu12        10.3.2.106 10.3.4.101 wheel\n",
      "nvidia-cusolver-cu12      11.4.5.107 11.5.4.101 wheel\n",
      "nvidia-cusparse-cu12      12.1.0.106 12.2.0.103 wheel\n",
      "nvidia-nccl-cu12          2.18.1     2.19.3     wheel\n",
      "nvidia-nvtx-cu12          12.1.105   12.3.101   wheel\n",
      "pexpect                   4.8.0      4.9.0      wheel\n",
      "prometheus-client         0.18.0     0.19.0     wheel\n",
      "Pygments                  2.16.1     2.17.2     wheel\n",
      "referencing               0.31.0     0.31.1     wheel\n",
      "rpds-py                   0.13.0     0.13.2     wheel\n",
      "scipy                     1.11.3     1.11.4     wheel\n",
      "setuptools                68.2.2     69.0.2     wheel\n",
      "tornado                   6.3.3      6.4        wheel\n",
      "traitlets                 5.13.0     5.14.0     wheel\n",
      "urllib3                   2.0.7      2.1.0      wheel\n",
      "wcwidth                   0.2.10     0.2.12     wheel\n"
     ]
    }
   ],
   "source": [
    "!pip list --outdated"
   ]
  },
  {
   "cell_type": "code",
   "execution_count": 3,
   "metadata": {},
   "outputs": [
    {
     "name": "stdout",
     "output_type": "stream",
     "text": [
      "Collecting pip-check\n",
      "  Downloading pip_check-2.8.1-py2.py3-none-any.whl (7.3 kB)\n",
      "Collecting terminaltables (from pip-check)\n",
      "  Downloading terminaltables-3.1.10-py2.py3-none-any.whl (15 kB)\n",
      "Requirement already satisfied: packaging in /home/codespace/.local/lib/python3.10/site-packages (from pip-check) (23.2)\n",
      "Requirement already satisfied: pip>=9 in /usr/local/python/3.10.13/lib/python3.10/site-packages (from pip-check) (23.3.1)\n",
      "Installing collected packages: terminaltables, pip-check\n",
      "Successfully installed pip-check-2.8.1 terminaltables-3.1.10\n"
     ]
    }
   ],
   "source": [
    "!pip install pip-check"
   ]
  },
  {
   "cell_type": "code",
   "execution_count": 1,
   "metadata": {},
   "outputs": [
    {
     "name": "stdout",
     "output_type": "stream",
     "text": [
      "Loading package versions...\n",
      "\n",
      "\u001b(0lqqqqqqqqqqqqqqqqqqqqqqwqqqqqqqqqwqqqqqqqqwqqqqqqqqqqqqqqqqqqqqqqqqqqqqqqqqqqqqqqqqqk\u001b(B\n",
      "\u001b(0x\u001b(B Major Release Update \u001b(0x\u001b(B Version \u001b(0x\u001b(B Latest \u001b(0x\u001b(B                                         \u001b(0x\u001b(B\n",
      "\u001b(0tqqqqqqqqqqqqqqqqqqqqqqnqqqqqqqqqnqqqqqqqqnqqqqqqqqqqqqqqqqqqqqqqqqqqqqqqqqqqqqqqqqqu\u001b(B\n",
      "\u001b(0x\u001b(B nbdime               \u001b(0x\u001b(B 3.2.1   \u001b(0x\u001b(B 4.0.1  \u001b(0x\u001b(B https://pypi.python.org/pypi/nbdime     \u001b(0x\u001b(B\n",
      "\u001b(0x\u001b(B setuptools           \u001b(0x\u001b(B 68.2.2  \u001b(0x\u001b(B 69.0.2 \u001b(0x\u001b(B https://pypi.python.org/pypi/setuptools \u001b(0x\u001b(B\n",
      "\u001b(0mqqqqqqqqqqqqqqqqqqqqqqvqqqqqqqqqvqqqqqqqqvqqqqqqqqqqqqqqqqqqqqqqqqqqqqqqqqqqqqqqqqqj\u001b(B\n",
      "\n",
      "\u001b(0lqqqqqqqqqqqqqqqqqqqqqqqqqqqwqqqqqqqqqqqqwqqqqqqqqqqqqwqqqqqqqqqqqqqqqqqqqqqqqqqqqqqqqqqqqqqqqqqqqqqqqqqqqqqqqqk\u001b(B\n",
      "\u001b(0x\u001b(B Minor Release Update      \u001b(0x\u001b(B Version    \u001b(0x\u001b(B Latest     \u001b(0x\u001b(B                                                        \u001b(0x\u001b(B\n",
      "\u001b(0tqqqqqqqqqqqqqqqqqqqqqqqqqqqnqqqqqqqqqqqqnqqqqqqqqqqqqnqqqqqqqqqqqqqqqqqqqqqqqqqqqqqqqqqqqqqqqqqqqqqqqqqqqqqqqqu\u001b(B\n",
      "\u001b(0x\u001b(B anyio                     \u001b(0x\u001b(B 4.0.0      \u001b(0x\u001b(B 4.1.0      \u001b(0x\u001b(B https://pypi.python.org/pypi/anyio                     \u001b(0x\u001b(B\n",
      "\u001b(0x\u001b(B certifi                   \u001b(0x\u001b(B 2023.7.22  \u001b(0x\u001b(B 2023.11.17 \u001b(0x\u001b(B https://pypi.python.org/pypi/certifi                   \u001b(0x\u001b(B\n",
      "\u001b(0x\u001b(B exceptiongroup            \u001b(0x\u001b(B 1.1.3      \u001b(0x\u001b(B 1.2.0      \u001b(0x\u001b(B https://pypi.python.org/pypi/exceptiongroup            \u001b(0x\u001b(B\n",
      "\u001b(0x\u001b(B fonttools                 \u001b(0x\u001b(B 4.44.3     \u001b(0x\u001b(B 4.45.1     \u001b(0x\u001b(B https://pypi.python.org/pypi/fonttools                 \u001b(0x\u001b(B\n",
      "\u001b(0x\u001b(B idna                      \u001b(0x\u001b(B 3.4        \u001b(0x\u001b(B 3.6        \u001b(0x\u001b(B https://pypi.python.org/pypi/idna                      \u001b(0x\u001b(B\n",
      "\u001b(0x\u001b(B ipykernel                 \u001b(0x\u001b(B 6.26.0     \u001b(0x\u001b(B 6.27.1     \u001b(0x\u001b(B https://pypi.python.org/pypi/ipykernel                 \u001b(0x\u001b(B\n",
      "\u001b(0x\u001b(B ipython                   \u001b(0x\u001b(B 8.17.2     \u001b(0x\u001b(B 8.18.1     \u001b(0x\u001b(B https://pypi.python.org/pypi/ipython                   \u001b(0x\u001b(B\n",
      "\u001b(0x\u001b(B jsonschema-specifications \u001b(0x\u001b(B 2023.11.1  \u001b(0x\u001b(B 2023.11.2  \u001b(0x\u001b(B https://pypi.python.org/pypi/jsonschema-specifications \u001b(0x\u001b(B\n",
      "\u001b(0x\u001b(B jupyter-lsp               \u001b(0x\u001b(B 2.2.0      \u001b(0x\u001b(B 2.2.1      \u001b(0x\u001b(B https://pypi.python.org/pypi/jupyter-lsp               \u001b(0x\u001b(B\n",
      "\u001b(0x\u001b(B jupyter_server            \u001b(0x\u001b(B 2.10.1     \u001b(0x\u001b(B 2.11.1     \u001b(0x\u001b(B https://pypi.python.org/pypi/jupyter_server            \u001b(0x\u001b(B\n",
      "\u001b(0x\u001b(B jupyterlab                \u001b(0x\u001b(B 4.0.8      \u001b(0x\u001b(B 4.0.9      \u001b(0x\u001b(B https://pypi.python.org/pypi/jupyterlab                \u001b(0x\u001b(B\n",
      "\u001b(0x\u001b(B jupyterlab_git            \u001b(0x\u001b(B 0.44.0     \u001b(0x\u001b(B 0.50.0     \u001b(0x\u001b(B https://pypi.python.org/pypi/jupyterlab_git            \u001b(0x\u001b(B\n",
      "\u001b(0x\u001b(B jupyterlab-pygments       \u001b(0x\u001b(B 0.2.2      \u001b(0x\u001b(B 0.3.0      \u001b(0x\u001b(B https://pypi.python.org/pypi/jupyterlab-pygments       \u001b(0x\u001b(B\n",
      "\u001b(0x\u001b(B jupyterlab_server         \u001b(0x\u001b(B 2.25.1     \u001b(0x\u001b(B 2.25.2     \u001b(0x\u001b(B https://pypi.python.org/pypi/jupyterlab_server         \u001b(0x\u001b(B\n",
      "\u001b(0x\u001b(B matplotlib                \u001b(0x\u001b(B 3.8.1      \u001b(0x\u001b(B 3.8.2      \u001b(0x\u001b(B https://pypi.python.org/pypi/matplotlib                \u001b(0x\u001b(B\n",
      "\u001b(0x\u001b(B nvidia-cublas-cu12        \u001b(0x\u001b(B 12.1.3.1   \u001b(0x\u001b(B 12.3.4.1   \u001b(0x\u001b(B https://pypi.python.org/pypi/nvidia-cublas-cu12        \u001b(0x\u001b(B\n",
      "\u001b(0x\u001b(B nvidia-cuda-cupti-cu12    \u001b(0x\u001b(B 12.1.105   \u001b(0x\u001b(B 12.3.101   \u001b(0x\u001b(B https://pypi.python.org/pypi/nvidia-cuda-cupti-cu12    \u001b(0x\u001b(B\n",
      "\u001b(0x\u001b(B nvidia-cuda-nvrtc-cu12    \u001b(0x\u001b(B 12.1.105   \u001b(0x\u001b(B 12.3.103   \u001b(0x\u001b(B https://pypi.python.org/pypi/nvidia-cuda-nvrtc-cu12    \u001b(0x\u001b(B\n",
      "\u001b(0x\u001b(B nvidia-cuda-runtime-cu12  \u001b(0x\u001b(B 12.1.105   \u001b(0x\u001b(B 12.3.101   \u001b(0x\u001b(B https://pypi.python.org/pypi/nvidia-cuda-runtime-cu12  \u001b(0x\u001b(B\n",
      "\u001b(0x\u001b(B nvidia-cudnn-cu12         \u001b(0x\u001b(B 8.9.2.26   \u001b(0x\u001b(B 8.9.6.50   \u001b(0x\u001b(B https://pypi.python.org/pypi/nvidia-cudnn-cu12         \u001b(0x\u001b(B\n",
      "\u001b(0x\u001b(B nvidia-cufft-cu12         \u001b(0x\u001b(B 11.0.2.54  \u001b(0x\u001b(B 11.0.12.1  \u001b(0x\u001b(B https://pypi.python.org/pypi/nvidia-cufft-cu12         \u001b(0x\u001b(B\n",
      "\u001b(0x\u001b(B nvidia-curand-cu12        \u001b(0x\u001b(B 10.3.2.106 \u001b(0x\u001b(B 10.3.4.101 \u001b(0x\u001b(B https://pypi.python.org/pypi/nvidia-curand-cu12        \u001b(0x\u001b(B\n",
      "\u001b(0x\u001b(B nvidia-cusolver-cu12      \u001b(0x\u001b(B 11.4.5.107 \u001b(0x\u001b(B 11.5.4.101 \u001b(0x\u001b(B https://pypi.python.org/pypi/nvidia-cusolver-cu12      \u001b(0x\u001b(B\n",
      "\u001b(0x\u001b(B nvidia-cusparse-cu12      \u001b(0x\u001b(B 12.1.0.106 \u001b(0x\u001b(B 12.2.0.103 \u001b(0x\u001b(B https://pypi.python.org/pypi/nvidia-cusparse-cu12      \u001b(0x\u001b(B\n",
      "\u001b(0x\u001b(B nvidia-nccl-cu12          \u001b(0x\u001b(B 2.18.1     \u001b(0x\u001b(B 2.19.3     \u001b(0x\u001b(B https://pypi.python.org/pypi/nvidia-nccl-cu12          \u001b(0x\u001b(B\n",
      "\u001b(0x\u001b(B nvidia-nvtx-cu12          \u001b(0x\u001b(B 12.1.105   \u001b(0x\u001b(B 12.3.101   \u001b(0x\u001b(B https://pypi.python.org/pypi/nvidia-nvtx-cu12          \u001b(0x\u001b(B\n",
      "\u001b(0x\u001b(B pexpect                   \u001b(0x\u001b(B 4.8.0      \u001b(0x\u001b(B 4.9.0      \u001b(0x\u001b(B https://pypi.python.org/pypi/pexpect                   \u001b(0x\u001b(B\n",
      "\u001b(0x\u001b(B prometheus-client         \u001b(0x\u001b(B 0.18.0     \u001b(0x\u001b(B 0.19.0     \u001b(0x\u001b(B https://pypi.python.org/pypi/prometheus-client         \u001b(0x\u001b(B\n",
      "\u001b(0x\u001b(B Pygments                  \u001b(0x\u001b(B 2.16.1     \u001b(0x\u001b(B 2.17.2     \u001b(0x\u001b(B https://pypi.python.org/pypi/Pygments                  \u001b(0x\u001b(B\n",
      "\u001b(0x\u001b(B referencing               \u001b(0x\u001b(B 0.31.0     \u001b(0x\u001b(B 0.31.1     \u001b(0x\u001b(B https://pypi.python.org/pypi/referencing               \u001b(0x\u001b(B\n",
      "\u001b(0x\u001b(B rpds-py                   \u001b(0x\u001b(B 0.13.0     \u001b(0x\u001b(B 0.13.2     \u001b(0x\u001b(B https://pypi.python.org/pypi/rpds-py                   \u001b(0x\u001b(B\n",
      "\u001b(0x\u001b(B scipy                     \u001b(0x\u001b(B 1.11.3     \u001b(0x\u001b(B 1.11.4     \u001b(0x\u001b(B https://pypi.python.org/pypi/scipy                     \u001b(0x\u001b(B\n",
      "\u001b(0x\u001b(B tornado                   \u001b(0x\u001b(B 6.3.3      \u001b(0x\u001b(B 6.4        \u001b(0x\u001b(B https://pypi.python.org/pypi/tornado                   \u001b(0x\u001b(B\n",
      "\u001b(0x\u001b(B traitlets                 \u001b(0x\u001b(B 5.13.0     \u001b(0x\u001b(B 5.14.0     \u001b(0x\u001b(B https://pypi.python.org/pypi/traitlets                 \u001b(0x\u001b(B\n",
      "\u001b(0x\u001b(B urllib3                   \u001b(0x\u001b(B 2.0.7      \u001b(0x\u001b(B 2.1.0      \u001b(0x\u001b(B https://pypi.python.org/pypi/urllib3                   \u001b(0x\u001b(B\n",
      "\u001b(0x\u001b(B wcwidth                   \u001b(0x\u001b(B 0.2.10     \u001b(0x\u001b(B 0.2.12     \u001b(0x\u001b(B https://pypi.python.org/pypi/wcwidth                   \u001b(0x\u001b(B\n",
      "\u001b(0mqqqqqqqqqqqqqqqqqqqqqqqqqqqvqqqqqqqqqqqqvqqqqqqqqqqqqvqqqqqqqqqqqqqqqqqqqqqqqqqqqqqqqqqqqqqqqqqqqqqqqqqqqqqqqqj\u001b(B\n",
      "\n",
      "\u001b(0lqqqqqqqqqqqqqqqqqqqqqqqqqqwqqqqqqqqqqqqqqwqqqqqqqqqqqqqqwqqqqqqqqqqqqqqqqqqqqqqqqqqqqqqqqqqqqqqqqqqqqqqqqqqqqqqqk\u001b(B\n",
      "\u001b(0x\u001b(B Unchanged Packages       \u001b(0x\u001b(B Version      \u001b(0x\u001b(B Latest       \u001b(0x\u001b(B                                                       \u001b(0x\u001b(B\n",
      "\u001b(0tqqqqqqqqqqqqqqqqqqqqqqqqqqnqqqqqqqqqqqqqqnqqqqqqqqqqqqqqnqqqqqqqqqqqqqqqqqqqqqqqqqqqqqqqqqqqqqqqqqqqqqqqqqqqqqqqu\u001b(B\n",
      "\u001b(0x\u001b(B argon2-cffi              \u001b(0x\u001b(B 23.1.0       \u001b(0x\u001b(B 23.1.0       \u001b(0x\u001b(B https://pypi.python.org/pypi/argon2-cffi              \u001b(0x\u001b(B\n",
      "\u001b(0x\u001b(B argon2-cffi-bindings     \u001b(0x\u001b(B 21.2.0       \u001b(0x\u001b(B 21.2.0       \u001b(0x\u001b(B https://pypi.python.org/pypi/argon2-cffi-bindings     \u001b(0x\u001b(B\n",
      "\u001b(0x\u001b(B arrow                    \u001b(0x\u001b(B 1.3.0        \u001b(0x\u001b(B 1.3.0        \u001b(0x\u001b(B https://pypi.python.org/pypi/arrow                    \u001b(0x\u001b(B\n",
      "\u001b(0x\u001b(B asttokens                \u001b(0x\u001b(B 2.4.1        \u001b(0x\u001b(B 2.4.1        \u001b(0x\u001b(B https://pypi.python.org/pypi/asttokens                \u001b(0x\u001b(B\n",
      "\u001b(0x\u001b(B async-lru                \u001b(0x\u001b(B 2.0.4        \u001b(0x\u001b(B 2.0.4        \u001b(0x\u001b(B https://pypi.python.org/pypi/async-lru                \u001b(0x\u001b(B\n",
      "\u001b(0x\u001b(B attrs                    \u001b(0x\u001b(B 23.1.0       \u001b(0x\u001b(B 23.1.0       \u001b(0x\u001b(B https://pypi.python.org/pypi/attrs                    \u001b(0x\u001b(B\n",
      "\u001b(0x\u001b(B Babel                    \u001b(0x\u001b(B 2.13.1       \u001b(0x\u001b(B 2.13.1       \u001b(0x\u001b(B https://pypi.python.org/pypi/Babel                    \u001b(0x\u001b(B\n",
      "\u001b(0x\u001b(B beautifulsoup4           \u001b(0x\u001b(B 4.12.2       \u001b(0x\u001b(B 4.12.2       \u001b(0x\u001b(B https://pypi.python.org/pypi/beautifulsoup4           \u001b(0x\u001b(B\n",
      "\u001b(0x\u001b(B bleach                   \u001b(0x\u001b(B 6.1.0        \u001b(0x\u001b(B 6.1.0        \u001b(0x\u001b(B https://pypi.python.org/pypi/bleach                   \u001b(0x\u001b(B\n",
      "\u001b(0x\u001b(B cffi                     \u001b(0x\u001b(B 1.16.0       \u001b(0x\u001b(B 1.16.0       \u001b(0x\u001b(B https://pypi.python.org/pypi/cffi                     \u001b(0x\u001b(B\n",
      "\u001b(0x\u001b(B charset-normalizer       \u001b(0x\u001b(B 3.3.2        \u001b(0x\u001b(B 3.3.2        \u001b(0x\u001b(B https://pypi.python.org/pypi/charset-normalizer       \u001b(0x\u001b(B\n",
      "\u001b(0x\u001b(B colorama                 \u001b(0x\u001b(B 0.4.6        \u001b(0x\u001b(B 0.4.6        \u001b(0x\u001b(B https://pypi.python.org/pypi/colorama                 \u001b(0x\u001b(B\n",
      "\u001b(0x\u001b(B comm                     \u001b(0x\u001b(B 0.2.0        \u001b(0x\u001b(B 0.2.0        \u001b(0x\u001b(B https://pypi.python.org/pypi/comm                     \u001b(0x\u001b(B\n",
      "\u001b(0x\u001b(B contourpy                \u001b(0x\u001b(B 1.2.0        \u001b(0x\u001b(B 1.2.0        \u001b(0x\u001b(B https://pypi.python.org/pypi/contourpy                \u001b(0x\u001b(B\n",
      "\u001b(0x\u001b(B cycler                   \u001b(0x\u001b(B 0.12.1       \u001b(0x\u001b(B 0.12.1       \u001b(0x\u001b(B https://pypi.python.org/pypi/cycler                   \u001b(0x\u001b(B\n",
      "\u001b(0x\u001b(B debugpy                  \u001b(0x\u001b(B 1.8.0        \u001b(0x\u001b(B 1.8.0        \u001b(0x\u001b(B https://pypi.python.org/pypi/debugpy                  \u001b(0x\u001b(B\n",
      "\u001b(0x\u001b(B decorator                \u001b(0x\u001b(B 5.1.1        \u001b(0x\u001b(B 5.1.1        \u001b(0x\u001b(B https://pypi.python.org/pypi/decorator                \u001b(0x\u001b(B\n",
      "\u001b(0x\u001b(B defusedxml               \u001b(0x\u001b(B 0.7.1        \u001b(0x\u001b(B 0.7.1        \u001b(0x\u001b(B https://pypi.python.org/pypi/defusedxml               \u001b(0x\u001b(B\n",
      "\u001b(0x\u001b(B executing                \u001b(0x\u001b(B 2.0.1        \u001b(0x\u001b(B 2.0.1        \u001b(0x\u001b(B https://pypi.python.org/pypi/executing                \u001b(0x\u001b(B\n",
      "\u001b(0x\u001b(B fastjsonschema           \u001b(0x\u001b(B 2.19.0       \u001b(0x\u001b(B 2.19.0       \u001b(0x\u001b(B https://pypi.python.org/pypi/fastjsonschema           \u001b(0x\u001b(B\n",
      "\u001b(0x\u001b(B filelock                 \u001b(0x\u001b(B 3.13.1       \u001b(0x\u001b(B 3.13.1       \u001b(0x\u001b(B https://pypi.python.org/pypi/filelock                 \u001b(0x\u001b(B\n",
      "\u001b(0x\u001b(B fqdn                     \u001b(0x\u001b(B 1.5.1        \u001b(0x\u001b(B 1.5.1        \u001b(0x\u001b(B https://pypi.python.org/pypi/fqdn                     \u001b(0x\u001b(B\n",
      "\u001b(0x\u001b(B fsspec                   \u001b(0x\u001b(B 2023.10.0    \u001b(0x\u001b(B 2023.10.0    \u001b(0x\u001b(B https://pypi.python.org/pypi/fsspec                   \u001b(0x\u001b(B\n",
      "\u001b(0x\u001b(B gitdb                    \u001b(0x\u001b(B 4.0.11       \u001b(0x\u001b(B 4.0.11       \u001b(0x\u001b(B https://pypi.python.org/pypi/gitdb                    \u001b(0x\u001b(B\n",
      "\u001b(0x\u001b(B GitPython                \u001b(0x\u001b(B 3.1.40       \u001b(0x\u001b(B 3.1.40       \u001b(0x\u001b(B https://pypi.python.org/pypi/GitPython                \u001b(0x\u001b(B\n",
      "\u001b(0x\u001b(B isoduration              \u001b(0x\u001b(B 20.11.0      \u001b(0x\u001b(B 20.11.0      \u001b(0x\u001b(B https://pypi.python.org/pypi/isoduration              \u001b(0x\u001b(B\n",
      "\u001b(0x\u001b(B jedi                     \u001b(0x\u001b(B 0.19.1       \u001b(0x\u001b(B 0.19.1       \u001b(0x\u001b(B https://pypi.python.org/pypi/jedi                     \u001b(0x\u001b(B\n",
      "\u001b(0x\u001b(B Jinja2                   \u001b(0x\u001b(B 3.1.2        \u001b(0x\u001b(B 3.1.2        \u001b(0x\u001b(B https://pypi.python.org/pypi/Jinja2                   \u001b(0x\u001b(B\n",
      "\u001b(0x\u001b(B joblib                   \u001b(0x\u001b(B 1.3.2        \u001b(0x\u001b(B 1.3.2        \u001b(0x\u001b(B https://pypi.python.org/pypi/joblib                   \u001b(0x\u001b(B\n",
      "\u001b(0x\u001b(B json5                    \u001b(0x\u001b(B 0.9.14       \u001b(0x\u001b(B 0.9.14       \u001b(0x\u001b(B https://pypi.python.org/pypi/json5                    \u001b(0x\u001b(B\n",
      "\u001b(0x\u001b(B jsonpointer              \u001b(0x\u001b(B 2.4          \u001b(0x\u001b(B 2.4          \u001b(0x\u001b(B https://pypi.python.org/pypi/jsonpointer              \u001b(0x\u001b(B\n",
      "\u001b(0x\u001b(B jsonschema               \u001b(0x\u001b(B 4.20.0       \u001b(0x\u001b(B 4.20.0       \u001b(0x\u001b(B https://pypi.python.org/pypi/jsonschema               \u001b(0x\u001b(B\n",
      "\u001b(0x\u001b(B jupyter_client           \u001b(0x\u001b(B 8.6.0        \u001b(0x\u001b(B 8.6.0        \u001b(0x\u001b(B https://pypi.python.org/pypi/jupyter_client           \u001b(0x\u001b(B\n",
      "\u001b(0x\u001b(B jupyter_core             \u001b(0x\u001b(B 5.5.0        \u001b(0x\u001b(B 5.5.0        \u001b(0x\u001b(B https://pypi.python.org/pypi/jupyter_core             \u001b(0x\u001b(B\n",
      "\u001b(0x\u001b(B jupyter-events           \u001b(0x\u001b(B 0.9.0        \u001b(0x\u001b(B 0.9.0        \u001b(0x\u001b(B https://pypi.python.org/pypi/jupyter-events           \u001b(0x\u001b(B\n",
      "\u001b(0x\u001b(B jupyter-server-mathjax   \u001b(0x\u001b(B 0.2.6        \u001b(0x\u001b(B 0.2.6        \u001b(0x\u001b(B https://pypi.python.org/pypi/jupyter-server-mathjax   \u001b(0x\u001b(B\n",
      "\u001b(0x\u001b(B jupyter_server_terminals \u001b(0x\u001b(B 0.4.4        \u001b(0x\u001b(B 0.4.4        \u001b(0x\u001b(B https://pypi.python.org/pypi/jupyter_server_terminals \u001b(0x\u001b(B\n",
      "\u001b(0x\u001b(B kiwisolver               \u001b(0x\u001b(B 1.4.5        \u001b(0x\u001b(B 1.4.5        \u001b(0x\u001b(B https://pypi.python.org/pypi/kiwisolver               \u001b(0x\u001b(B\n",
      "\u001b(0x\u001b(B MarkupSafe               \u001b(0x\u001b(B 2.1.3        \u001b(0x\u001b(B 2.1.3        \u001b(0x\u001b(B https://pypi.python.org/pypi/MarkupSafe               \u001b(0x\u001b(B\n",
      "\u001b(0x\u001b(B matplotlib-inline        \u001b(0x\u001b(B 0.1.6        \u001b(0x\u001b(B 0.1.6        \u001b(0x\u001b(B https://pypi.python.org/pypi/matplotlib-inline        \u001b(0x\u001b(B\n",
      "\u001b(0x\u001b(B mistune                  \u001b(0x\u001b(B 3.0.2        \u001b(0x\u001b(B 3.0.2        \u001b(0x\u001b(B https://pypi.python.org/pypi/mistune                  \u001b(0x\u001b(B\n",
      "\u001b(0x\u001b(B mpmath                   \u001b(0x\u001b(B 1.3.0        \u001b(0x\u001b(B 1.3.0        \u001b(0x\u001b(B https://pypi.python.org/pypi/mpmath                   \u001b(0x\u001b(B\n",
      "\u001b(0x\u001b(B nbclient                 \u001b(0x\u001b(B 0.9.0        \u001b(0x\u001b(B 0.9.0        \u001b(0x\u001b(B https://pypi.python.org/pypi/nbclient                 \u001b(0x\u001b(B\n",
      "\u001b(0x\u001b(B nbconvert                \u001b(0x\u001b(B 7.11.0       \u001b(0x\u001b(B 7.11.0       \u001b(0x\u001b(B https://pypi.python.org/pypi/nbconvert                \u001b(0x\u001b(B\n",
      "\u001b(0x\u001b(B nbformat                 \u001b(0x\u001b(B 5.9.2        \u001b(0x\u001b(B 5.9.2        \u001b(0x\u001b(B https://pypi.python.org/pypi/nbformat                 \u001b(0x\u001b(B\n",
      "\u001b(0x\u001b(B nest-asyncio             \u001b(0x\u001b(B 1.5.8        \u001b(0x\u001b(B 1.5.8        \u001b(0x\u001b(B https://pypi.python.org/pypi/nest-asyncio             \u001b(0x\u001b(B\n",
      "\u001b(0x\u001b(B networkx                 \u001b(0x\u001b(B 3.2.1        \u001b(0x\u001b(B 3.2.1        \u001b(0x\u001b(B https://pypi.python.org/pypi/networkx                 \u001b(0x\u001b(B\n",
      "\u001b(0x\u001b(B notebook_shim            \u001b(0x\u001b(B 0.2.3        \u001b(0x\u001b(B 0.2.3        \u001b(0x\u001b(B https://pypi.python.org/pypi/notebook_shim            \u001b(0x\u001b(B\n",
      "\u001b(0x\u001b(B numpy                    \u001b(0x\u001b(B 1.26.2       \u001b(0x\u001b(B 1.26.2       \u001b(0x\u001b(B https://pypi.python.org/pypi/numpy                    \u001b(0x\u001b(B\n",
      "\u001b(0x\u001b(B nvidia-nvjitlink-cu12    \u001b(0x\u001b(B 12.3.101     \u001b(0x\u001b(B 12.3.101     \u001b(0x\u001b(B https://pypi.python.org/pypi/nvidia-nvjitlink-cu12    \u001b(0x\u001b(B\n",
      "\u001b(0x\u001b(B overrides                \u001b(0x\u001b(B 7.4.0        \u001b(0x\u001b(B 7.4.0        \u001b(0x\u001b(B https://pypi.python.org/pypi/overrides                \u001b(0x\u001b(B\n",
      "\u001b(0x\u001b(B packaging                \u001b(0x\u001b(B 23.2         \u001b(0x\u001b(B 23.2         \u001b(0x\u001b(B https://pypi.python.org/pypi/packaging                \u001b(0x\u001b(B\n",
      "\u001b(0x\u001b(B pandas                   \u001b(0x\u001b(B 2.1.3        \u001b(0x\u001b(B 2.1.3        \u001b(0x\u001b(B https://pypi.python.org/pypi/pandas                   \u001b(0x\u001b(B\n",
      "\u001b(0x\u001b(B pandocfilters            \u001b(0x\u001b(B 1.5.0        \u001b(0x\u001b(B 1.5.0        \u001b(0x\u001b(B https://pypi.python.org/pypi/pandocfilters            \u001b(0x\u001b(B\n",
      "\u001b(0x\u001b(B parso                    \u001b(0x\u001b(B 0.8.3        \u001b(0x\u001b(B 0.8.3        \u001b(0x\u001b(B https://pypi.python.org/pypi/parso                    \u001b(0x\u001b(B\n",
      "\u001b(0x\u001b(B Pillow                   \u001b(0x\u001b(B 10.1.0       \u001b(0x\u001b(B 10.1.0       \u001b(0x\u001b(B https://pypi.python.org/pypi/Pillow                   \u001b(0x\u001b(B\n",
      "\u001b(0x\u001b(B pip                      \u001b(0x\u001b(B 23.3.1       \u001b(0x\u001b(B 23.3.1       \u001b(0x\u001b(B https://pypi.python.org/pypi/pip                      \u001b(0x\u001b(B\n",
      "\u001b(0x\u001b(B pip-check                \u001b(0x\u001b(B 2.8.1        \u001b(0x\u001b(B 2.8.1        \u001b(0x\u001b(B https://pypi.python.org/pypi/pip-check                \u001b(0x\u001b(B\n",
      "\u001b(0x\u001b(B platformdirs             \u001b(0x\u001b(B 4.0.0        \u001b(0x\u001b(B 4.0.0        \u001b(0x\u001b(B https://pypi.python.org/pypi/platformdirs             \u001b(0x\u001b(B\n",
      "\u001b(0x\u001b(B plotly                   \u001b(0x\u001b(B 5.18.0       \u001b(0x\u001b(B 5.18.0       \u001b(0x\u001b(B https://pypi.python.org/pypi/plotly                   \u001b(0x\u001b(B\n",
      "\u001b(0x\u001b(B prompt-toolkit           \u001b(0x\u001b(B 3.0.41       \u001b(0x\u001b(B 3.0.41       \u001b(0x\u001b(B https://pypi.python.org/pypi/prompt-toolkit           \u001b(0x\u001b(B\n",
      "\u001b(0x\u001b(B psutil                   \u001b(0x\u001b(B 5.9.6        \u001b(0x\u001b(B 5.9.6        \u001b(0x\u001b(B https://pypi.python.org/pypi/psutil                   \u001b(0x\u001b(B\n",
      "\u001b(0x\u001b(B ptyprocess               \u001b(0x\u001b(B 0.7.0        \u001b(0x\u001b(B 0.7.0        \u001b(0x\u001b(B https://pypi.python.org/pypi/ptyprocess               \u001b(0x\u001b(B\n",
      "\u001b(0x\u001b(B pure-eval                \u001b(0x\u001b(B 0.2.2        \u001b(0x\u001b(B 0.2.2        \u001b(0x\u001b(B https://pypi.python.org/pypi/pure-eval                \u001b(0x\u001b(B\n",
      "\u001b(0x\u001b(B pycparser                \u001b(0x\u001b(B 2.21         \u001b(0x\u001b(B 2.21         \u001b(0x\u001b(B https://pypi.python.org/pypi/pycparser                \u001b(0x\u001b(B\n",
      "\u001b(0x\u001b(B pyparsing                \u001b(0x\u001b(B 3.1.1        \u001b(0x\u001b(B 3.1.1        \u001b(0x\u001b(B https://pypi.python.org/pypi/pyparsing                \u001b(0x\u001b(B\n",
      "\u001b(0x\u001b(B python-dateutil          \u001b(0x\u001b(B 2.8.2        \u001b(0x\u001b(B 2.8.2        \u001b(0x\u001b(B https://pypi.python.org/pypi/python-dateutil          \u001b(0x\u001b(B\n",
      "\u001b(0x\u001b(B python-json-logger       \u001b(0x\u001b(B 2.0.7        \u001b(0x\u001b(B 2.0.7        \u001b(0x\u001b(B https://pypi.python.org/pypi/python-json-logger       \u001b(0x\u001b(B\n",
      "\u001b(0x\u001b(B pytz                     \u001b(0x\u001b(B 2023.3.post1 \u001b(0x\u001b(B 2023.3.post1 \u001b(0x\u001b(B https://pypi.python.org/pypi/pytz                     \u001b(0x\u001b(B\n",
      "\u001b(0x\u001b(B PyYAML                   \u001b(0x\u001b(B 6.0.1        \u001b(0x\u001b(B 6.0.1        \u001b(0x\u001b(B https://pypi.python.org/pypi/PyYAML                   \u001b(0x\u001b(B\n",
      "\u001b(0x\u001b(B pyzmq                    \u001b(0x\u001b(B 25.1.1       \u001b(0x\u001b(B 25.1.1       \u001b(0x\u001b(B https://pypi.python.org/pypi/pyzmq                    \u001b(0x\u001b(B\n",
      "\u001b(0x\u001b(B requests                 \u001b(0x\u001b(B 2.31.0       \u001b(0x\u001b(B 2.31.0       \u001b(0x\u001b(B https://pypi.python.org/pypi/requests                 \u001b(0x\u001b(B\n",
      "\u001b(0x\u001b(B rfc3339-validator        \u001b(0x\u001b(B 0.1.4        \u001b(0x\u001b(B 0.1.4        \u001b(0x\u001b(B https://pypi.python.org/pypi/rfc3339-validator        \u001b(0x\u001b(B\n",
      "\u001b(0x\u001b(B rfc3986-validator        \u001b(0x\u001b(B 0.1.1        \u001b(0x\u001b(B 0.1.1        \u001b(0x\u001b(B https://pypi.python.org/pypi/rfc3986-validator        \u001b(0x\u001b(B\n",
      "\u001b(0x\u001b(B scikit-learn             \u001b(0x\u001b(B 1.3.2        \u001b(0x\u001b(B 1.3.2        \u001b(0x\u001b(B https://pypi.python.org/pypi/scikit-learn             \u001b(0x\u001b(B\n",
      "\u001b(0x\u001b(B seaborn                  \u001b(0x\u001b(B 0.13.0       \u001b(0x\u001b(B 0.13.0       \u001b(0x\u001b(B https://pypi.python.org/pypi/seaborn                  \u001b(0x\u001b(B\n",
      "\u001b(0x\u001b(B Send2Trash               \u001b(0x\u001b(B 1.8.2        \u001b(0x\u001b(B 1.8.2        \u001b(0x\u001b(B https://pypi.python.org/pypi/Send2Trash               \u001b(0x\u001b(B\n",
      "\u001b(0x\u001b(B six                      \u001b(0x\u001b(B 1.16.0       \u001b(0x\u001b(B 1.16.0       \u001b(0x\u001b(B https://pypi.python.org/pypi/six                      \u001b(0x\u001b(B\n",
      "\u001b(0x\u001b(B smmap                    \u001b(0x\u001b(B 5.0.1        \u001b(0x\u001b(B 5.0.1        \u001b(0x\u001b(B https://pypi.python.org/pypi/smmap                    \u001b(0x\u001b(B\n",
      "\u001b(0x\u001b(B sniffio                  \u001b(0x\u001b(B 1.3.0        \u001b(0x\u001b(B 1.3.0        \u001b(0x\u001b(B https://pypi.python.org/pypi/sniffio                  \u001b(0x\u001b(B\n",
      "\u001b(0x\u001b(B soupsieve                \u001b(0x\u001b(B 2.5          \u001b(0x\u001b(B 2.5          \u001b(0x\u001b(B https://pypi.python.org/pypi/soupsieve                \u001b(0x\u001b(B\n",
      "\u001b(0x\u001b(B stack-data               \u001b(0x\u001b(B 0.6.3        \u001b(0x\u001b(B 0.6.3        \u001b(0x\u001b(B https://pypi.python.org/pypi/stack-data               \u001b(0x\u001b(B\n",
      "\u001b(0x\u001b(B sympy                    \u001b(0x\u001b(B 1.12         \u001b(0x\u001b(B 1.12         \u001b(0x\u001b(B https://pypi.python.org/pypi/sympy                    \u001b(0x\u001b(B\n",
      "\u001b(0x\u001b(B tenacity                 \u001b(0x\u001b(B 8.2.3        \u001b(0x\u001b(B 8.2.3        \u001b(0x\u001b(B https://pypi.python.org/pypi/tenacity                 \u001b(0x\u001b(B\n",
      "\u001b(0x\u001b(B terminado                \u001b(0x\u001b(B 0.18.0       \u001b(0x\u001b(B 0.18.0       \u001b(0x\u001b(B https://pypi.python.org/pypi/terminado                \u001b(0x\u001b(B\n",
      "\u001b(0x\u001b(B terminaltables           \u001b(0x\u001b(B 3.1.10       \u001b(0x\u001b(B 3.1.10       \u001b(0x\u001b(B https://pypi.python.org/pypi/terminaltables           \u001b(0x\u001b(B\n",
      "\u001b(0x\u001b(B threadpoolctl            \u001b(0x\u001b(B 3.2.0        \u001b(0x\u001b(B 3.2.0        \u001b(0x\u001b(B https://pypi.python.org/pypi/threadpoolctl            \u001b(0x\u001b(B\n",
      "\u001b(0x\u001b(B tinycss2                 \u001b(0x\u001b(B 1.2.1        \u001b(0x\u001b(B 1.2.1        \u001b(0x\u001b(B https://pypi.python.org/pypi/tinycss2                 \u001b(0x\u001b(B\n",
      "\u001b(0x\u001b(B tomli                    \u001b(0x\u001b(B 2.0.1        \u001b(0x\u001b(B 2.0.1        \u001b(0x\u001b(B https://pypi.python.org/pypi/tomli                    \u001b(0x\u001b(B\n",
      "\u001b(0x\u001b(B torch                    \u001b(0x\u001b(B 2.1.1        \u001b(0x\u001b(B 2.1.1        \u001b(0x\u001b(B https://pypi.python.org/pypi/torch                    \u001b(0x\u001b(B\n",
      "\u001b(0x\u001b(B triton                   \u001b(0x\u001b(B 2.1.0        \u001b(0x\u001b(B 2.1.0        \u001b(0x\u001b(B https://pypi.python.org/pypi/triton                   \u001b(0x\u001b(B\n",
      "\u001b(0x\u001b(B types-python-dateutil    \u001b(0x\u001b(B 2.8.19.14    \u001b(0x\u001b(B 2.8.19.14    \u001b(0x\u001b(B https://pypi.python.org/pypi/types-python-dateutil    \u001b(0x\u001b(B\n",
      "\u001b(0x\u001b(B typing_extensions        \u001b(0x\u001b(B 4.8.0        \u001b(0x\u001b(B 4.8.0        \u001b(0x\u001b(B https://pypi.python.org/pypi/typing_extensions        \u001b(0x\u001b(B\n",
      "\u001b(0x\u001b(B tzdata                   \u001b(0x\u001b(B 2023.3       \u001b(0x\u001b(B 2023.3       \u001b(0x\u001b(B https://pypi.python.org/pypi/tzdata                   \u001b(0x\u001b(B\n",
      "\u001b(0x\u001b(B uri-template             \u001b(0x\u001b(B 1.3.0        \u001b(0x\u001b(B 1.3.0        \u001b(0x\u001b(B https://pypi.python.org/pypi/uri-template             \u001b(0x\u001b(B\n",
      "\u001b(0x\u001b(B webcolors                \u001b(0x\u001b(B 1.13         \u001b(0x\u001b(B 1.13         \u001b(0x\u001b(B https://pypi.python.org/pypi/webcolors                \u001b(0x\u001b(B\n",
      "\u001b(0x\u001b(B webencodings             \u001b(0x\u001b(B 0.5.1        \u001b(0x\u001b(B 0.5.1        \u001b(0x\u001b(B https://pypi.python.org/pypi/webencodings             \u001b(0x\u001b(B\n",
      "\u001b(0x\u001b(B websocket-client         \u001b(0x\u001b(B 1.6.4        \u001b(0x\u001b(B 1.6.4        \u001b(0x\u001b(B https://pypi.python.org/pypi/websocket-client         \u001b(0x\u001b(B\n",
      "\u001b(0mqqqqqqqqqqqqqqqqqqqqqqqqqqvqqqqqqqqqqqqqqvqqqqqqqqqqqqqqvqqqqqqqqqqqqqqqqqqqqqqqqqqqqqqqqqqqqqqqqqqqqqqqqqqqqqqqj\u001b(B\n"
     ]
    }
   ],
   "source": [
    "!pip-check"
   ]
  },
  {
   "cell_type": "code",
   "execution_count": 3,
   "metadata": {},
   "outputs": [
    {
     "name": "stdout",
     "output_type": "stream",
     "text": [
      "Linux\n"
     ]
    },
    {
     "data": {
      "text/plain": [
       "('6.2.0-1016-azure', '#16~22.04.1-Ubuntu SMP Tue Oct 10 17:11:51 UTC 2023')"
      ]
     },
     "execution_count": 3,
     "metadata": {},
     "output_type": "execute_result"
    }
   ],
   "source": [
    "import platform\n",
    "\n",
    "print(platform.system())\n",
    "(platform.release(), platform.version())"
   ]
  },
  {
   "cell_type": "code",
   "execution_count": 13,
   "metadata": {},
   "outputs": [
    {
     "name": "stdout",
     "output_type": "stream",
     "text": [
      "/workspaces/syd.github.io\n"
     ]
    },
    {
     "data": {
      "text/plain": [
       "'/home/codespace'"
      ]
     },
     "execution_count": 13,
     "metadata": {},
     "output_type": "execute_result"
    }
   ],
   "source": [
    "import os\n",
    "print(os.getcwd())\n",
    "#os.getlogin() #ERROR#=>OSError: [Errno 6] No such device or address\n",
    "os.path.expanduser('~') "
   ]
  },
  {
   "cell_type": "code",
   "execution_count": 16,
   "metadata": {},
   "outputs": [
    {
     "data": {
      "text/plain": [
       "'codespace'"
      ]
     },
     "execution_count": 16,
     "metadata": {},
     "output_type": "execute_result"
    }
   ],
   "source": [
    "import getpass as gt\n",
    "gt.getuser()"
   ]
  },
  {
   "cell_type": "code",
   "execution_count": 17,
   "metadata": {},
   "outputs": [
    {
     "data": {
      "text/plain": [
       "'codespace'"
      ]
     },
     "execution_count": 17,
     "metadata": {},
     "output_type": "execute_result"
    }
   ],
   "source": [
    "import os\n",
    "import pwd\n",
    " \n",
    "pwd.getpwuid(os.getuid())[0] # printing current username"
   ]
  },
  {
   "cell_type": "code",
   "execution_count": 15,
   "metadata": {},
   "outputs": [
    {
     "data": {
      "text/plain": [
       "'/home/codespace/.python/current/bin:/vscode/bin/linux-x64/1a5daa3a0231a0fbba4f14db7ec463cf99d7768e/bin/remote-cli:/home/codespace/.local/bin:/home/codespace/.dotnet:/home/codespace/nvm/current/bin:/home/codespace/.php/current/bin:/home/codespace/.python/current/bin:/home/codespace/java/current/bin:/home/codespace/.ruby/current/bin:/home/codespace/.local/bin:/usr/local/python/current/bin:/usr/local/py-utils/bin:/usr/local/oryx:/usr/local/go/bin:/go/bin:/usr/local/sdkman/bin:/usr/local/sdkman/candidates/java/current/bin:/usr/local/sdkman/candidates/gradle/current/bin:/usr/local/sdkman/candidates/maven/current/bin:/usr/local/sdkman/candidates/ant/current/bin:/usr/local/rvm/gems/default/bin:/usr/local/rvm/gems/default@global/bin:/usr/local/rvm/rubies/default/bin:/usr/local/share/rbenv/bin:/usr/local/php/current/bin:/opt/conda/bin:/usr/local/nvs:/usr/local/share/nvm/current/bin:/usr/local/hugo/bin:/usr/local/dotnet/current:/usr/local/sbin:/usr/local/bin:/usr/sbin:/usr/bin:/sbin:/bin:/usr/local/rvm/bin:/vscode/bin/linux-x64/1a5daa3a0231a0fbba4f14db7ec463cf99d7768e/bin/remote-cli:/home/codespace/.local/bin:/home/codespace/.dotnet:/home/codespace/nvm/current/bin:/home/codespace/.php/current/bin:/home/codespace/.python/current/bin:/home/codespace/java/current/bin:/home/codespace/.ruby/current/bin:/home/codespace/.local/bin:/usr/local/python/current/bin:/usr/local/py-utils/bin:/usr/local/oryx:/usr/local/go/bin:/go/bin:/usr/local/sdkman/bin:/usr/local/sdkman/candidates/java/current/bin:/usr/local/sdkman/candidates/gradle/current/bin:/usr/local/sdkman/candidates/maven/current/bin:/usr/local/sdkman/candidates/ant/current/bin:/usr/local/rvm/gems/default/bin:/usr/local/rvm/gems/default@global/bin:/usr/local/rvm/rubies/default/bin:/usr/local/share/rbenv/bin:/usr/local/php/current/bin:/opt/conda/bin:/usr/local/nvs:/usr/local/share/nvm/current/bin:/usr/local/hugo/bin:/usr/local/dotnet/current:/usr/local/sbin:/usr/local/bin:/usr/sbin:/usr/bin:/sbin:/bin:/usr/local/rvm/bin'"
      ]
     },
     "execution_count": 15,
     "metadata": {},
     "output_type": "execute_result"
    }
   ],
   "source": [
    "os.environ.get(\"PATH\")"
   ]
  },
  {
   "cell_type": "code",
   "execution_count": 6,
   "metadata": {},
   "outputs": [
    {
     "name": "stdout",
     "output_type": "stream",
     "text": [
      "total 52\n",
      "drwxrwxrwx+ 2 codespace root       4096 Dec  1 09:38 ExamHTML\n",
      "-rw-rw-rw-  1 codespace codespace 41171 Dec  1 09:51 Py-CodeSpace-1.ipynb\n",
      "-rw-rw-rw-  1 codespace root        360 Dec  1 09:38 README.md\n"
     ]
    }
   ],
   "source": [
    "!ls -l /workspaces/syd.github.io"
   ]
  },
  {
   "cell_type": "code",
   "execution_count": 7,
   "metadata": {},
   "outputs": [
    {
     "name": "stdout",
     "output_type": "stream",
     "text": [
      "total 4\n",
      "-rw-rw-rw- 1 codespace root 344 Dec  1 09:38 index.html\n"
     ]
    }
   ],
   "source": [
    "!ls -l /workspaces/syd.github.io/ExamHTML"
   ]
  },
  {
   "cell_type": "code",
   "execution_count": 19,
   "metadata": {},
   "outputs": [
    {
     "name": "stdout",
     "output_type": "stream",
     "text": [
      "The CPU usage is:  4.0\n"
     ]
    }
   ],
   "source": [
    "import psutil\n",
    "print('The CPU usage is: ', psutil.cpu_percent(4))"
   ]
  },
  {
   "cell_type": "code",
   "execution_count": 21,
   "metadata": {},
   "outputs": [
    {
     "name": "stdout",
     "output_type": "stream",
     "text": [
      "The CPU usage is :  7.000000000000001\n"
     ]
    },
    {
     "data": {
      "text/plain": [
       "4"
      ]
     },
     "execution_count": 21,
     "metadata": {},
     "output_type": "execute_result"
    }
   ],
   "source": [
    "import os\n",
    "import psutil\n",
    "\n",
    "load1, load5, load15 = psutil.getloadavg()  # Getting loadover15 minutes\n",
    "cpu_usage = (load15/os.cpu_count()) * 100\n",
    "print(\"The CPU usage is : \", cpu_usage)\n",
    "os.cpu_count()"
   ]
  },
  {
   "cell_type": "code",
   "execution_count": 22,
   "metadata": {},
   "outputs": [
    {
     "name": "stdout",
     "output_type": "stream",
     "text": [
      "RAM memory % used: 14.5\n",
      "RAM Used (GB): 2.073329664\n"
     ]
    }
   ],
   "source": [
    "# Importing the library\n",
    "import psutil\n",
    "\n",
    "# Getting % usage of virtual_memory ( 3rd field)\n",
    "print('RAM memory % used:', psutil.virtual_memory()[2])\n",
    "# Getting usage of virtual_memory in GB ( 4th field)\n",
    "print('RAM Used (GB):', psutil.virtual_memory()[3]/1000000000)"
   ]
  },
  {
   "cell_type": "code",
   "execution_count": 24,
   "metadata": {},
   "outputs": [
    {
     "data": {
      "text/plain": [
       "(16757780480, 14309527552, 14.6, 2083753984)"
      ]
     },
     "execution_count": 24,
     "metadata": {},
     "output_type": "execute_result"
    }
   ],
   "source": [
    "(psutil.virtual_memory()[0],psutil.virtual_memory()[1],psutil.virtual_memory()[2],psutil.virtual_memory()[3])"
   ]
  },
  {
   "cell_type": "code",
   "execution_count": 25,
   "metadata": {},
   "outputs": [
    {
     "data": {
      "text/plain": [
       "svmem(total=16757780480, available=14334083072, percent=14.5, used=2059194368, free=4257542144, active=1301078016, inactive=10325942272, buffers=421494784, cached=10019549184, shared=1261568, slab=708288512)"
      ]
     },
     "execution_count": 25,
     "metadata": {},
     "output_type": "execute_result"
    }
   ],
   "source": [
    "psutil.virtual_memory()"
   ]
  },
  {
   "cell_type": "code",
   "execution_count": 26,
   "metadata": {},
   "outputs": [
    {
     "name": "stdout",
     "output_type": "stream",
     "text": [
      "RAM memory % used: 12.51\n"
     ]
    }
   ],
   "source": [
    "import os\n",
    "\n",
    "# Getting all memory using os.popen()\n",
    "total_memory, used_memory, free_memory = map(\n",
    "\tint, os.popen('free -t -m').readlines()[-1].split()[1:])\n",
    "\n",
    "print(\"RAM memory % used:\", round((used_memory/total_memory) * 100, 2))  # Memory usage"
   ]
  },
  {
   "cell_type": "code",
   "execution_count": 28,
   "metadata": {},
   "outputs": [
    {
     "name": "stdout",
     "output_type": "stream",
     "text": [
      "total_size = 33.63602432 GB\n",
      "free_size = 19.902021632 GB\n"
     ]
    }
   ],
   "source": [
    "import os\n",
    "\n",
    "def get_machine_storage():\n",
    "    result=os.statvfs('/')\n",
    "    block_size=result.f_frsize\n",
    "    total_blocks=result.f_blocks\n",
    "    free_blocks=result.f_bfree\n",
    "    # giga=1024*1024*1024\n",
    "    giga=1000*1000*1000\n",
    "    total_size=total_blocks*block_size/giga\n",
    "    free_size=free_blocks*block_size/giga\n",
    "    print('total_size = %s GB' % total_size)\n",
    "    print('free_size = %s GB' % free_size)\n",
    "\n",
    "get_machine_storage()"
   ]
  },
  {
   "cell_type": "code",
   "execution_count": 32,
   "metadata": {},
   "outputs": [
    {
     "name": "stdout",
     "output_type": "stream",
     "text": [
      "Total: 31.32598876953125 GiB\n",
      "Used: 12.790878295898438 GiB\n",
      "Free: 16.919490814208984 GiB\n"
     ]
    }
   ],
   "source": [
    "import psutil\n",
    "\n",
    "hdd = psutil.disk_usage('/')\n",
    "\n",
    "print (\"Total:\",hdd.total / (2**30),\"GiB\")\n",
    "print (\"Used:\",hdd.used / (2**30),\"GiB\")\n",
    "print (\"Free:\",hdd.free / (2**30),\"GiB\")"
   ]
  },
  {
   "cell_type": "code",
   "execution_count": 33,
   "metadata": {},
   "outputs": [
    {
     "name": "stdout",
     "output_type": "stream",
     "text": [
      "Total: 31.32598876953125 GiB\n",
      "Used: 12.790878295898438 GiB\n",
      "Free: 16.919490814208984 GiB\n"
     ]
    }
   ],
   "source": [
    "import shutil\n",
    "\n",
    "total, used, free = shutil.disk_usage(\"/\")\n",
    "print (\"Total:\",hdd.total / (2**30),\"GiB\")\n",
    "print (\"Used:\",hdd.used / (2**30),\"GiB\")\n",
    "print (\"Free:\",hdd.free / (2**30),\"GiB\")"
   ]
  },
  {
   "cell_type": "code",
   "execution_count": 34,
   "metadata": {},
   "outputs": [
    {
     "name": "stdout",
     "output_type": "stream",
     "text": [
      "Filesystem     1K-blocks     Used Available Use% Mounted on\n",
      "overlay         32847680 13412276  17741304  44% /\n"
     ]
    },
    {
     "data": {
      "text/plain": [
       "0"
      ]
     },
     "execution_count": 34,
     "metadata": {},
     "output_type": "execute_result"
    }
   ],
   "source": [
    "os.system('df -k /')"
   ]
  },
  {
   "cell_type": "code",
   "execution_count": 35,
   "metadata": {},
   "outputs": [
    {
     "data": {
      "text/plain": [
       "17741320.0"
      ]
     },
     "execution_count": 35,
     "metadata": {},
     "output_type": "execute_result"
    }
   ],
   "source": [
    "disk = os.statvfs('/')\n",
    "(disk.f_bavail * disk.f_frsize) / 1024"
   ]
  },
  {
   "cell_type": "code",
   "execution_count": 39,
   "metadata": {},
   "outputs": [
    {
     "data": {
      "text/plain": [
       "['__add__',\n",
       " '__class__',\n",
       " '__class_getitem__',\n",
       " '__contains__',\n",
       " '__delattr__',\n",
       " '__dir__',\n",
       " '__doc__',\n",
       " '__eq__',\n",
       " '__format__',\n",
       " '__ge__',\n",
       " '__getattribute__',\n",
       " '__getitem__',\n",
       " '__getnewargs__',\n",
       " '__gt__',\n",
       " '__hash__',\n",
       " '__init__',\n",
       " '__init_subclass__',\n",
       " '__iter__',\n",
       " '__le__',\n",
       " '__len__',\n",
       " '__lt__',\n",
       " '__match_args__',\n",
       " '__module__',\n",
       " '__mul__',\n",
       " '__ne__',\n",
       " '__new__',\n",
       " '__reduce__',\n",
       " '__reduce_ex__',\n",
       " '__repr__',\n",
       " '__rmul__',\n",
       " '__setattr__',\n",
       " '__sizeof__',\n",
       " '__str__',\n",
       " '__subclasshook__',\n",
       " 'count',\n",
       " 'f_bavail',\n",
       " 'f_bfree',\n",
       " 'f_blocks',\n",
       " 'f_bsize',\n",
       " 'f_favail',\n",
       " 'f_ffree',\n",
       " 'f_files',\n",
       " 'f_flag',\n",
       " 'f_frsize',\n",
       " 'f_fsid',\n",
       " 'f_namemax',\n",
       " 'index',\n",
       " 'n_fields',\n",
       " 'n_sequence_fields',\n",
       " 'n_unnamed_fields']"
      ]
     },
     "execution_count": 39,
     "metadata": {},
     "output_type": "execute_result"
    }
   ],
   "source": [
    "dir(os.statvfs('/'))"
   ]
  },
  {
   "cell_type": "code",
   "execution_count": 40,
   "metadata": {},
   "outputs": [
    {
     "data": {
      "text/plain": [
       "['total: 31 GiB', 'used: 12 GiB', 'free: 16 GiB']"
      ]
     },
     "execution_count": 40,
     "metadata": {},
     "output_type": "execute_result"
    }
   ],
   "source": [
    "import shutil\n",
    "\n",
    "[f\"{y}: {x//(2**30)} GiB\" for x, y in zip(shutil.disk_usage('/'), shutil.disk_usage('/')._fields)]"
   ]
  },
  {
   "cell_type": "code",
   "execution_count": 41,
   "metadata": {},
   "outputs": [
    {
     "name": "stdout",
     "output_type": "stream",
     "text": [
      "    \n",
      "    TOTAL DISK SPACE : 452.4165 GiB\n",
      "    USED DISK SPACE  : 175.5695 GiB\n",
      "    FREE DISK SPACE  : 259.4597 GiB\n",
      "\n"
     ]
    }
   ],
   "source": [
    "total = int()\n",
    "used  = int()\n",
    "free  = int()\n",
    "\n",
    "for disk in psutil.disk_partitions():\n",
    "    if disk.fstype:\n",
    "        total += int(psutil.disk_usage(disk.mountpoint).total)\n",
    "        used  += int(psutil.disk_usage(disk.mountpoint).used)\n",
    "        free  += int(psutil.disk_usage(disk.mountpoint).free)\n",
    "\n",
    "print(f'''    \n",
    "    TOTAL DISK SPACE : {round(total / (1024.0 ** 3), 4)} GiB\n",
    "    USED DISK SPACE  : {round(used / (1024.0 ** 3), 4)} GiB\n",
    "    FREE DISK SPACE  : {round(free / (1024.0 ** 3), 4)} GiB\n",
    "''')"
   ]
  }
 ],
 "metadata": {
  "kernelspec": {
   "display_name": "Python 3 (ipykernel)",
   "language": "python",
   "name": "python3"
  },
  "language_info": {
   "codemirror_mode": {
    "name": "ipython",
    "version": 3
   },
   "file_extension": ".py",
   "mimetype": "text/x-python",
   "name": "python",
   "nbconvert_exporter": "python",
   "pygments_lexer": "ipython3",
   "version": "3.10.13"
  }
 },
 "nbformat": 4,
 "nbformat_minor": 2
}
